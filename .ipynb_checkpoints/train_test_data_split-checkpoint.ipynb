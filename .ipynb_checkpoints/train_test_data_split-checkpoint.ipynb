{
 "cells": [
  {
   "cell_type": "markdown",
   "metadata": {},
   "source": [
    "#### Train and test data splitting into Train , test : input and output data"
   ]
  },
  {
   "cell_type": "markdown",
   "metadata": {},
   "source": [
    "Following are steps for splitting the data into test and train"
   ]
  },
  {
   "cell_type": "code",
   "execution_count": null,
   "metadata": {},
   "outputs": [],
   "source": [
    "###  special test train split option by sklearn\n",
    "# from sklearn.model_selection import train_test_split"
   ]
  },
  {
   "cell_type": "code",
   "execution_count": null,
   "metadata": {},
   "outputs": [],
   "source": [
    "# ## get df with only independent variabls, so we have to exclude \"Class\" column\n",
    "# X = cc_df.loc[:, columns != 'Class']\n",
    "# X.head()\n",
    "# ## target df have only dependent variable i.e. target variable\n",
    "# y = cc_df[[\"Class\"]]\n",
    "# y.head()\n",
    "# ## train test input and output variables split\n",
    "# X_train, X_test, y_train, y_test=train_test_split(X,y,random_state = 100)"
   ]
  }
 ],
 "metadata": {
  "kernelspec": {
   "display_name": "Python 3",
   "language": "python",
   "name": "python3"
  },
  "language_info": {
   "codemirror_mode": {
    "name": "ipython",
    "version": 3
   },
   "file_extension": ".py",
   "mimetype": "text/x-python",
   "name": "python",
   "nbconvert_exporter": "python",
   "pygments_lexer": "ipython3",
   "version": "3.6.7"
  }
 },
 "nbformat": 4,
 "nbformat_minor": 4
}
