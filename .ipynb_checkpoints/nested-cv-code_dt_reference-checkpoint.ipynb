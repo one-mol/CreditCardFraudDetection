{
 "cells": [
  {
   "cell_type": "code",
   "execution_count": null,
   "metadata": {},
   "outputs": [],
   "source": [
    "from sklearn import metrics\n",
    "import numpy as np\n",
    "import pandas as pd\n",
    "from sklearn.model_selection import StratifiedKFold\n",
    "import itertools\n",
    "import time\n",
    "import sklearn.datasets\n",
    "from skopt import BayesSearchCV as bayes_opt\n",
    "from sklearn.tree import DecisionTreeClassifier as dt\n",
    "\n",
    "\n",
    "#sample data for sample execution\n",
    "# X,Y = sklearn.datasets.make_classification(n_samples=1000)"
   ]
  },
  {
   "cell_type": "code",
   "execution_count": null,
   "metadata": {},
   "outputs": [],
   "source": [
    "X = pd.read_csv(\"/home/administrtor/Desktop/TBB/P/docker/rf/data/occupancy_data/datatraining.csv\") \n",
    "x=X.drop(['date','Occupancy'],axis=1)\n",
    "y=X['Occupancy']"
   ]
  },
  {
   "cell_type": "code",
   "execution_count": null,
   "metadata": {},
   "outputs": [],
   "source": [
    "dt_space = {'splitter':['best','random'],\n",
    "          'max_depth': (1,100),\n",
    "          'criterion':['gini','entropy'],\n",
    "          'min_samples_split':(1,1000)}\n",
    "\n",
    "\n",
    "scoring = {'AUC': 'roc_auc', \n",
    "           'avg_pr': 'average_precision', \n",
    "           'bal_accuracy':'balanced_accuracy',\n",
    "           'accuracy':'accuracy',\n",
    "           'f1_score':'f1'}"
   ]
  },
  {
   "cell_type": "code",
   "execution_count": null,
   "metadata": {},
   "outputs": [],
   "source": [
    "def inner_cv(X, y, n_folds, spaces, n_iter ,seed, scoring ):\n",
    "    \n",
    "        \"\"\"Funtion to do Hyperparameter tuning using Stratified CV. use this function as Inner loop in nested CV. \n",
    "        Takes following Arguments.\n",
    "            1. X: Features Data without labels\n",
    "            2. Y: Labels of the Data\n",
    "            3. n_folds: Parameter to specify number of folds in CV\n",
    "            4. spaces: Usually  a Disctionary object of Hyperparameter space to perform Bayesian Search CV\n",
    "            5. seed: Random seed to reproduce the results. Give seed as the loop number When using Nested CV\n",
    "            6. scoring: Dictionary object of multiple evaluation metrics to monitor for BayesSearchCV. \n",
    "                        if None provided, average_precision is assumed.\n",
    "            7. n_iter: Number of iterations of Hyperparameter combination search.\"\"\"\n",
    "        \n",
    "        estimator = dt(random_state = seed)\n",
    "\n",
    "        cv = StratifiedKFold(n_splits=5,shuffle=True,random_state=seed+1)\n",
    "\n",
    "        optimization = bayes_opt(cv = cv, estimator = estimator, n_iter = n_iter, n_jobs = -1, \n",
    "                                 search_spaces=spaces, n_points=100, random_state = seed+2, \n",
    "                                 error_score=-1, return_train_score=True, verbose=0, \n",
    "                                 iid = True, refit = True, scoring = scoring)\n",
    "        \n",
    "        model = optimization.fit(X=X,y=y)\n",
    "        print(\"CV score: \",model.best_score_)\n",
    "        return(model)"
   ]
  },
  {
   "cell_type": "code",
   "execution_count": 6,
   "metadata": {
    "collapsed": true
   },
   "outputs": [
    {
     "ename": "KeyError",
     "evalue": "\"None of [Int64Index([1245, 1246, 1247, 1248, 1249, 1250, 1251, 1252, 1253, 1254,\\n            ...\\n            8133, 8134, 8135, 8136, 8137, 8138, 8139, 8140, 8141, 8142],\\n           dtype='int64', length=6514)] are in the [columns]\"",
     "output_type": "error",
     "traceback": [
      "\u001b[0;31m---------------------------------------------------------------------------\u001b[0m",
      "\u001b[0;31mKeyError\u001b[0m                                  Traceback (most recent call last)",
      "\u001b[0;32m<ipython-input-6-ea64dd03906c>\u001b[0m in \u001b[0;36m<module>\u001b[0;34m()\u001b[0m\n\u001b[1;32m     96\u001b[0m test_models,test_model_scores, mean_cvs_scores = outer_cv(X=x, y=y, n_fold = 5, \n\u001b[1;32m     97\u001b[0m                                                           \u001b[0mspaces\u001b[0m \u001b[0;34m=\u001b[0m \u001b[0mdt_space\u001b[0m\u001b[0;34m,\u001b[0m \u001b[0mseed\u001b[0m \u001b[0;34m=\u001b[0m \u001b[0;36m42\u001b[0m\u001b[0;34m,\u001b[0m\u001b[0;34m\u001b[0m\u001b[0;34m\u001b[0m\u001b[0m\n\u001b[0;32m---> 98\u001b[0;31m                                                           scoring = 'average_precision')\n\u001b[0m\u001b[1;32m     99\u001b[0m \u001b[0;34m\u001b[0m\u001b[0m\n\u001b[1;32m    100\u001b[0m \u001b[0mprint\u001b[0m\u001b[0;34m(\u001b[0m\u001b[0mtest_model_scores\u001b[0m\u001b[0;34m)\u001b[0m\u001b[0;34m\u001b[0m\u001b[0;34m\u001b[0m\u001b[0m\n",
      "\u001b[0;32m<ipython-input-6-ea64dd03906c>\u001b[0m in \u001b[0;36mouter_cv\u001b[0;34m(X, y, n_fold, spaces, seed, scoring)\u001b[0m\n\u001b[1;32m     66\u001b[0m     \u001b[0mrandom_state\u001b[0m \u001b[0;34m=\u001b[0m \u001b[0;36m1\u001b[0m\u001b[0;34m+\u001b[0m\u001b[0mseed\u001b[0m\u001b[0;34m\u001b[0m\u001b[0;34m\u001b[0m\u001b[0m\n\u001b[1;32m     67\u001b[0m     \u001b[0;32mfor\u001b[0m \u001b[0mtrain_index\u001b[0m\u001b[0;34m,\u001b[0m \u001b[0mtest_index\u001b[0m \u001b[0;32min\u001b[0m \u001b[0mcv\u001b[0m\u001b[0;34m.\u001b[0m\u001b[0msplit\u001b[0m\u001b[0;34m(\u001b[0m\u001b[0mX\u001b[0m\u001b[0;34m,\u001b[0m\u001b[0my\u001b[0m\u001b[0;34m)\u001b[0m\u001b[0;34m:\u001b[0m\u001b[0;34m\u001b[0m\u001b[0;34m\u001b[0m\u001b[0m\n\u001b[0;32m---> 68\u001b[0;31m         \u001b[0mX_train\u001b[0m\u001b[0;34m,\u001b[0m \u001b[0mX_test\u001b[0m \u001b[0;34m=\u001b[0m \u001b[0mX\u001b[0m\u001b[0;34m[\u001b[0m\u001b[0mtrain_index\u001b[0m\u001b[0;34m]\u001b[0m\u001b[0;34m,\u001b[0m \u001b[0mX\u001b[0m\u001b[0;34m[\u001b[0m\u001b[0mtest_index\u001b[0m\u001b[0;34m]\u001b[0m\u001b[0;34m\u001b[0m\u001b[0;34m\u001b[0m\u001b[0m\n\u001b[0m\u001b[1;32m     69\u001b[0m         \u001b[0my_train\u001b[0m\u001b[0;34m,\u001b[0m \u001b[0my_test\u001b[0m \u001b[0;34m=\u001b[0m \u001b[0my\u001b[0m\u001b[0;34m[\u001b[0m\u001b[0mtrain_index\u001b[0m\u001b[0;34m]\u001b[0m\u001b[0;34m,\u001b[0m \u001b[0my\u001b[0m\u001b[0;34m[\u001b[0m\u001b[0mtest_index\u001b[0m\u001b[0;34m]\u001b[0m\u001b[0;34m\u001b[0m\u001b[0;34m\u001b[0m\u001b[0m\n\u001b[1;32m     70\u001b[0m         model = inner_cv(X=X_train, y=y_train, n_folds=4, n_iter=10, spaces = spaces, scoring = scoring, \n",
      "\u001b[0;32m/home/administrtor/.local/lib/python3.6/site-packages/pandas/core/frame.py\u001b[0m in \u001b[0;36m__getitem__\u001b[0;34m(self, key)\u001b[0m\n\u001b[1;32m   2932\u001b[0m                 \u001b[0mkey\u001b[0m \u001b[0;34m=\u001b[0m \u001b[0mlist\u001b[0m\u001b[0;34m(\u001b[0m\u001b[0mkey\u001b[0m\u001b[0;34m)\u001b[0m\u001b[0;34m\u001b[0m\u001b[0;34m\u001b[0m\u001b[0m\n\u001b[1;32m   2933\u001b[0m             indexer = self.loc._convert_to_indexer(key, axis=1,\n\u001b[0;32m-> 2934\u001b[0;31m                                                    raise_missing=True)\n\u001b[0m\u001b[1;32m   2935\u001b[0m \u001b[0;34m\u001b[0m\u001b[0m\n\u001b[1;32m   2936\u001b[0m         \u001b[0;31m# take() does not accept boolean indexers\u001b[0m\u001b[0;34m\u001b[0m\u001b[0;34m\u001b[0m\u001b[0;34m\u001b[0m\u001b[0m\n",
      "\u001b[0;32m/home/administrtor/.local/lib/python3.6/site-packages/pandas/core/indexing.py\u001b[0m in \u001b[0;36m_convert_to_indexer\u001b[0;34m(self, obj, axis, is_setter, raise_missing)\u001b[0m\n\u001b[1;32m   1352\u001b[0m                 kwargs = {'raise_missing': True if is_setter else\n\u001b[1;32m   1353\u001b[0m                           raise_missing}\n\u001b[0;32m-> 1354\u001b[0;31m                 \u001b[0;32mreturn\u001b[0m \u001b[0mself\u001b[0m\u001b[0;34m.\u001b[0m\u001b[0m_get_listlike_indexer\u001b[0m\u001b[0;34m(\u001b[0m\u001b[0mobj\u001b[0m\u001b[0;34m,\u001b[0m \u001b[0maxis\u001b[0m\u001b[0;34m,\u001b[0m \u001b[0;34m**\u001b[0m\u001b[0mkwargs\u001b[0m\u001b[0;34m)\u001b[0m\u001b[0;34m[\u001b[0m\u001b[0;36m1\u001b[0m\u001b[0;34m]\u001b[0m\u001b[0;34m\u001b[0m\u001b[0;34m\u001b[0m\u001b[0m\n\u001b[0m\u001b[1;32m   1355\u001b[0m         \u001b[0;32melse\u001b[0m\u001b[0;34m:\u001b[0m\u001b[0;34m\u001b[0m\u001b[0;34m\u001b[0m\u001b[0m\n\u001b[1;32m   1356\u001b[0m             \u001b[0;32mtry\u001b[0m\u001b[0;34m:\u001b[0m\u001b[0;34m\u001b[0m\u001b[0;34m\u001b[0m\u001b[0m\n",
      "\u001b[0;32m/home/administrtor/.local/lib/python3.6/site-packages/pandas/core/indexing.py\u001b[0m in \u001b[0;36m_get_listlike_indexer\u001b[0;34m(self, key, axis, raise_missing)\u001b[0m\n\u001b[1;32m   1159\u001b[0m         self._validate_read_indexer(keyarr, indexer,\n\u001b[1;32m   1160\u001b[0m                                     \u001b[0mo\u001b[0m\u001b[0;34m.\u001b[0m\u001b[0m_get_axis_number\u001b[0m\u001b[0;34m(\u001b[0m\u001b[0maxis\u001b[0m\u001b[0;34m)\u001b[0m\u001b[0;34m,\u001b[0m\u001b[0;34m\u001b[0m\u001b[0;34m\u001b[0m\u001b[0m\n\u001b[0;32m-> 1161\u001b[0;31m                                     raise_missing=raise_missing)\n\u001b[0m\u001b[1;32m   1162\u001b[0m         \u001b[0;32mreturn\u001b[0m \u001b[0mkeyarr\u001b[0m\u001b[0;34m,\u001b[0m \u001b[0mindexer\u001b[0m\u001b[0;34m\u001b[0m\u001b[0;34m\u001b[0m\u001b[0m\n\u001b[1;32m   1163\u001b[0m \u001b[0;34m\u001b[0m\u001b[0m\n",
      "\u001b[0;32m/home/administrtor/.local/lib/python3.6/site-packages/pandas/core/indexing.py\u001b[0m in \u001b[0;36m_validate_read_indexer\u001b[0;34m(self, key, indexer, axis, raise_missing)\u001b[0m\n\u001b[1;32m   1244\u001b[0m                 raise KeyError(\n\u001b[1;32m   1245\u001b[0m                     u\"None of [{key}] are in the [{axis}]\".format(\n\u001b[0;32m-> 1246\u001b[0;31m                         key=key, axis=self.obj._get_axis_name(axis)))\n\u001b[0m\u001b[1;32m   1247\u001b[0m \u001b[0;34m\u001b[0m\u001b[0m\n\u001b[1;32m   1248\u001b[0m             \u001b[0;31m# We (temporarily) allow for some missing keys with .loc, except in\u001b[0m\u001b[0;34m\u001b[0m\u001b[0;34m\u001b[0m\u001b[0;34m\u001b[0m\u001b[0m\n",
      "\u001b[0;31mKeyError\u001b[0m: \"None of [Int64Index([1245, 1246, 1247, 1248, 1249, 1250, 1251, 1252, 1253, 1254,\\n            ...\\n            8133, 8134, 8135, 8136, 8137, 8138, 8139, 8140, 8141, 8142],\\n           dtype='int64', length=6514)] are in the [columns]\""
     ]
    }
   ],
   "source": [
    "def outer_cv(X,y, n_fold, spaces, seed, scoring):\n",
    "    cv = StratifiedKFold(n_splits = n_fold, shuffle=False,random_state = seed)\n",
    "    \n",
    "    models = []\n",
    "    test_scores = {'average_precision':[],'roc_auc':[],'balanced_accuracy':[],'f1':[],'accuracy':[]}\n",
    "    mean_cv_scores = []\n",
    "    random_state = 1+seed\n",
    "    for train_index, test_index in cv.split(X,y):\n",
    "        X_train, X_test = X.iloc[train_index], X.iloc[test_index]\n",
    "        y_train, y_test = y.iloc[train_index], y.iloc[test_index] \n",
    "        model = inner_cv(X=X_train, y=y_train, n_folds=4, n_iter=10, spaces = spaces, scoring = scoring, \n",
    "                         seed = random_state)\n",
    "        random_state +=1\n",
    "        models.append(model)\n",
    "        mean_cv_scores.append(model.best_score_)\n",
    "        \n",
    "        preds = model.predict_proba(X_test)[:,1]\n",
    "        \n",
    "        test_score = metrics.average_precision_score(y_true = y_test, y_score=preds)\n",
    "        test_scores['average_precision'].append(test_score)\n",
    "        \n",
    "        test_score = metrics.roc_auc_score(y_true = y_test, y_score=preds)\n",
    "        test_scores['roc_auc'].append(test_score)\n",
    "        \n",
    "        test_score = metrics.balanced_accuracy_score(y_true = y_test, y_pred=preds>0.5)\n",
    "        test_scores['balanced_accuracy'].append(test_score)\n",
    "        \n",
    "        test_score = metrics.f1_score(y_true = y_test, y_pred=preds>0.5)\n",
    "        test_scores['f1'].append(test_score)\n",
    "        \n",
    "        test_score = metrics.accuracy_score(y_true = y_test, y_pred=preds>0.5)\n",
    "        test_scores['accuracy'].append(test_score)\n",
    "        \n",
    "    return(models,test_scores,mean_cv_scores)\n",
    "\n",
    "\n",
    "test_models,test_model_scores, mean_cvs_scores = outer_cv(X=x, y=y, n_fold = 5, \n",
    "                                                          spaces = dt_space, seed = 42, \n",
    "                                                          scoring = 'average_precision')\n",
    "\n",
    "print(test_model_scores)"
   ]
  },
  {
   "cell_type": "code",
   "execution_count": 5,
   "metadata": {},
   "outputs": [
    {
     "name": "stdout",
     "output_type": "stream",
     "text": [
      "{'criterion': 'entropy', 'max_depth': 23, 'min_samples_split': 26, 'splitter': 'random'}\n",
      "{'criterion': 'gini', 'max_depth': 67, 'min_samples_split': 525, 'splitter': 'best'}\n",
      "{'criterion': 'gini', 'max_depth': 72, 'min_samples_split': 183, 'splitter': 'random'}\n",
      "{'criterion': 'entropy', 'max_depth': 20, 'min_samples_split': 48, 'splitter': 'best'}\n",
      "{'criterion': 'entropy', 'max_depth': 59, 'min_samples_split': 135, 'splitter': 'best'}\n"
     ]
    }
   ],
   "source": [
    "for i in test_models:print(i.best_params_)"
   ]
  },
  {
   "cell_type": "code",
   "execution_count": 12,
   "metadata": {},
   "outputs": [
    {
     "data": {
      "text/plain": [
       "0.007622392065484313"
      ]
     },
     "execution_count": 12,
     "metadata": {},
     "output_type": "execute_result"
    }
   ],
   "source": [
    "np.std(mean_cvs_scores)"
   ]
  },
  {
   "cell_type": "code",
   "execution_count": 13,
   "metadata": {},
   "outputs": [
    {
     "data": {
      "text/plain": [
       "0.9307410782586869"
      ]
     },
     "execution_count": 13,
     "metadata": {},
     "output_type": "execute_result"
    }
   ],
   "source": [
    "np.mean(mean_cvs_scores)"
   ]
  },
  {
   "cell_type": "code",
   "execution_count": 16,
   "metadata": {},
   "outputs": [
    {
     "data": {
      "text/plain": [
       "numpy.ndarray"
      ]
     },
     "execution_count": 16,
     "metadata": {},
     "output_type": "execute_result"
    }
   ],
   "source": [
    "\n",
    "type(X)"
   ]
  },
  {
   "cell_type": "code",
   "execution_count": 20,
   "metadata": {},
   "outputs": [],
   "source": [
    "X.dtype.names"
   ]
  },
  {
   "cell_type": "code",
   "execution_count": 21,
   "metadata": {},
   "outputs": [
    {
     "data": {
      "text/plain": [
       "array([[ 0.3104474 ,  2.62499275,  0.10777455, ...,  0.03141631,\n",
       "         0.14086748,  1.03520031],\n",
       "       [ 0.43498062,  1.01402426,  1.50164207, ..., -0.38271714,\n",
       "        -0.71683825, -0.81214732],\n",
       "       [ 0.66190062, -1.57875257, -1.37461602, ..., -0.70859936,\n",
       "         1.61264049, -1.08397396],\n",
       "       ...,\n",
       "       [-0.52681439, -1.2144743 , -0.52374396, ...,  0.95846304,\n",
       "        -0.72889868,  1.0011608 ],\n",
       "       [ 0.36123221,  0.43004262,  1.02955141, ...,  2.45343822,\n",
       "        -0.34193097,  1.48951677],\n",
       "       [ 0.39086115, -1.86639563,  1.66443737, ...,  1.25522852,\n",
       "         0.71665287,  0.84072647]])"
      ]
     },
     "execution_count": 21,
     "metadata": {},
     "output_type": "execute_result"
    }
   ],
   "source": [
    "X"
   ]
  },
  {
   "cell_type": "code",
   "execution_count": null,
   "metadata": {},
   "outputs": [],
   "source": []
  }
 ],
 "metadata": {
  "kernelspec": {
   "display_name": "Python 3",
   "language": "python",
   "name": "python3"
  },
  "language_info": {
   "codemirror_mode": {
    "name": "ipython",
    "version": 3
   },
   "file_extension": ".py",
   "mimetype": "text/x-python",
   "name": "python",
   "nbconvert_exporter": "python",
   "pygments_lexer": "ipython3",
   "version": "3.6.7"
  }
 },
 "nbformat": 4,
 "nbformat_minor": 2
}
