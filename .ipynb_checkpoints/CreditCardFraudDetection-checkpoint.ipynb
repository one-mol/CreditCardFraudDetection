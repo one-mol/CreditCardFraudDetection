{
 "cells": [
  {
   "cell_type": "markdown",
   "metadata": {},
   "source": [
    "Basic approach to generate insights from data and use of  ML\n",
    "\n",
    "\n",
    "\n",
    "   --- Author : **Anmol Yadav**\n",
    "   \n",
    "   --- Dataset from Kaggle(creditcard)"
   ]
  },
  {
   "cell_type": "markdown",
   "metadata": {},
   "source": [
    "### importing required libraries"
   ]
  },
  {
   "cell_type": "code",
   "execution_count": 1,
   "metadata": {},
   "outputs": [],
   "source": [
    "import numpy as np\n",
    "import pandas as pd # data processing, CSV file I/O (e.g. pd.read_csv)\n",
    "import sys\n",
    "import matplotlib.pyplot as plt"
   ]
  },
  {
   "cell_type": "code",
   "execution_count": 2,
   "metadata": {},
   "outputs": [],
   "source": [
    "import seaborn as sns\n",
    "import scipy\n",
    "import sklearn\n",
    "import statistics\n",
    "import json"
   ]
  },
  {
   "cell_type": "markdown",
   "metadata": {},
   "source": [
    "## reading the data"
   ]
  },
  {
   "cell_type": "code",
   "execution_count": 3,
   "metadata": {},
   "outputs": [],
   "source": [
    "cc_df = pd.read_csv(\"creditcard.csv\")"
   ]
  },
  {
   "cell_type": "markdown",
   "metadata": {},
   "source": [
    "## exploring the data"
   ]
  },
  {
   "cell_type": "code",
   "execution_count": 4,
   "metadata": {
    "scrolled": true
   },
   "outputs": [
    {
     "data": {
      "text/html": [
       "<div>\n",
       "<style scoped>\n",
       "    .dataframe tbody tr th:only-of-type {\n",
       "        vertical-align: middle;\n",
       "    }\n",
       "\n",
       "    .dataframe tbody tr th {\n",
       "        vertical-align: top;\n",
       "    }\n",
       "\n",
       "    .dataframe thead th {\n",
       "        text-align: right;\n",
       "    }\n",
       "</style>\n",
       "<table border=\"1\" class=\"dataframe\">\n",
       "  <thead>\n",
       "    <tr style=\"text-align: right;\">\n",
       "      <th></th>\n",
       "      <th>Time</th>\n",
       "      <th>V1</th>\n",
       "      <th>V2</th>\n",
       "      <th>V3</th>\n",
       "      <th>V4</th>\n",
       "      <th>V5</th>\n",
       "      <th>V6</th>\n",
       "      <th>V7</th>\n",
       "      <th>V8</th>\n",
       "      <th>V9</th>\n",
       "      <th>...</th>\n",
       "      <th>V21</th>\n",
       "      <th>V22</th>\n",
       "      <th>V23</th>\n",
       "      <th>V24</th>\n",
       "      <th>V25</th>\n",
       "      <th>V26</th>\n",
       "      <th>V27</th>\n",
       "      <th>V28</th>\n",
       "      <th>Amount</th>\n",
       "      <th>Class</th>\n",
       "    </tr>\n",
       "  </thead>\n",
       "  <tbody>\n",
       "    <tr>\n",
       "      <th>0</th>\n",
       "      <td>0.0</td>\n",
       "      <td>-1.359807</td>\n",
       "      <td>-0.072781</td>\n",
       "      <td>2.536347</td>\n",
       "      <td>1.378155</td>\n",
       "      <td>-0.338321</td>\n",
       "      <td>0.462388</td>\n",
       "      <td>0.239599</td>\n",
       "      <td>0.098698</td>\n",
       "      <td>0.363787</td>\n",
       "      <td>...</td>\n",
       "      <td>-0.018307</td>\n",
       "      <td>0.277838</td>\n",
       "      <td>-0.110474</td>\n",
       "      <td>0.066928</td>\n",
       "      <td>0.128539</td>\n",
       "      <td>-0.189115</td>\n",
       "      <td>0.133558</td>\n",
       "      <td>-0.021053</td>\n",
       "      <td>149.62</td>\n",
       "      <td>0</td>\n",
       "    </tr>\n",
       "    <tr>\n",
       "      <th>1</th>\n",
       "      <td>0.0</td>\n",
       "      <td>1.191857</td>\n",
       "      <td>0.266151</td>\n",
       "      <td>0.166480</td>\n",
       "      <td>0.448154</td>\n",
       "      <td>0.060018</td>\n",
       "      <td>-0.082361</td>\n",
       "      <td>-0.078803</td>\n",
       "      <td>0.085102</td>\n",
       "      <td>-0.255425</td>\n",
       "      <td>...</td>\n",
       "      <td>-0.225775</td>\n",
       "      <td>-0.638672</td>\n",
       "      <td>0.101288</td>\n",
       "      <td>-0.339846</td>\n",
       "      <td>0.167170</td>\n",
       "      <td>0.125895</td>\n",
       "      <td>-0.008983</td>\n",
       "      <td>0.014724</td>\n",
       "      <td>2.69</td>\n",
       "      <td>0</td>\n",
       "    </tr>\n",
       "    <tr>\n",
       "      <th>2</th>\n",
       "      <td>1.0</td>\n",
       "      <td>-1.358354</td>\n",
       "      <td>-1.340163</td>\n",
       "      <td>1.773209</td>\n",
       "      <td>0.379780</td>\n",
       "      <td>-0.503198</td>\n",
       "      <td>1.800499</td>\n",
       "      <td>0.791461</td>\n",
       "      <td>0.247676</td>\n",
       "      <td>-1.514654</td>\n",
       "      <td>...</td>\n",
       "      <td>0.247998</td>\n",
       "      <td>0.771679</td>\n",
       "      <td>0.909412</td>\n",
       "      <td>-0.689281</td>\n",
       "      <td>-0.327642</td>\n",
       "      <td>-0.139097</td>\n",
       "      <td>-0.055353</td>\n",
       "      <td>-0.059752</td>\n",
       "      <td>378.66</td>\n",
       "      <td>0</td>\n",
       "    </tr>\n",
       "    <tr>\n",
       "      <th>3</th>\n",
       "      <td>1.0</td>\n",
       "      <td>-0.966272</td>\n",
       "      <td>-0.185226</td>\n",
       "      <td>1.792993</td>\n",
       "      <td>-0.863291</td>\n",
       "      <td>-0.010309</td>\n",
       "      <td>1.247203</td>\n",
       "      <td>0.237609</td>\n",
       "      <td>0.377436</td>\n",
       "      <td>-1.387024</td>\n",
       "      <td>...</td>\n",
       "      <td>-0.108300</td>\n",
       "      <td>0.005274</td>\n",
       "      <td>-0.190321</td>\n",
       "      <td>-1.175575</td>\n",
       "      <td>0.647376</td>\n",
       "      <td>-0.221929</td>\n",
       "      <td>0.062723</td>\n",
       "      <td>0.061458</td>\n",
       "      <td>123.50</td>\n",
       "      <td>0</td>\n",
       "    </tr>\n",
       "    <tr>\n",
       "      <th>4</th>\n",
       "      <td>2.0</td>\n",
       "      <td>-1.158233</td>\n",
       "      <td>0.877737</td>\n",
       "      <td>1.548718</td>\n",
       "      <td>0.403034</td>\n",
       "      <td>-0.407193</td>\n",
       "      <td>0.095921</td>\n",
       "      <td>0.592941</td>\n",
       "      <td>-0.270533</td>\n",
       "      <td>0.817739</td>\n",
       "      <td>...</td>\n",
       "      <td>-0.009431</td>\n",
       "      <td>0.798278</td>\n",
       "      <td>-0.137458</td>\n",
       "      <td>0.141267</td>\n",
       "      <td>-0.206010</td>\n",
       "      <td>0.502292</td>\n",
       "      <td>0.219422</td>\n",
       "      <td>0.215153</td>\n",
       "      <td>69.99</td>\n",
       "      <td>0</td>\n",
       "    </tr>\n",
       "  </tbody>\n",
       "</table>\n",
       "<p>5 rows × 31 columns</p>\n",
       "</div>"
      ],
      "text/plain": [
       "   Time        V1        V2        V3        V4        V5        V6        V7  \\\n",
       "0   0.0 -1.359807 -0.072781  2.536347  1.378155 -0.338321  0.462388  0.239599   \n",
       "1   0.0  1.191857  0.266151  0.166480  0.448154  0.060018 -0.082361 -0.078803   \n",
       "2   1.0 -1.358354 -1.340163  1.773209  0.379780 -0.503198  1.800499  0.791461   \n",
       "3   1.0 -0.966272 -0.185226  1.792993 -0.863291 -0.010309  1.247203  0.237609   \n",
       "4   2.0 -1.158233  0.877737  1.548718  0.403034 -0.407193  0.095921  0.592941   \n",
       "\n",
       "         V8        V9  ...       V21       V22       V23       V24       V25  \\\n",
       "0  0.098698  0.363787  ... -0.018307  0.277838 -0.110474  0.066928  0.128539   \n",
       "1  0.085102 -0.255425  ... -0.225775 -0.638672  0.101288 -0.339846  0.167170   \n",
       "2  0.247676 -1.514654  ...  0.247998  0.771679  0.909412 -0.689281 -0.327642   \n",
       "3  0.377436 -1.387024  ... -0.108300  0.005274 -0.190321 -1.175575  0.647376   \n",
       "4 -0.270533  0.817739  ... -0.009431  0.798278 -0.137458  0.141267 -0.206010   \n",
       "\n",
       "        V26       V27       V28  Amount  Class  \n",
       "0 -0.189115  0.133558 -0.021053  149.62      0  \n",
       "1  0.125895 -0.008983  0.014724    2.69      0  \n",
       "2 -0.139097 -0.055353 -0.059752  378.66      0  \n",
       "3 -0.221929  0.062723  0.061458  123.50      0  \n",
       "4  0.502292  0.219422  0.215153   69.99      0  \n",
       "\n",
       "[5 rows x 31 columns]"
      ]
     },
     "execution_count": 4,
     "metadata": {},
     "output_type": "execute_result"
    }
   ],
   "source": [
    "cc_df.head()"
   ]
  },
  {
   "cell_type": "code",
   "execution_count": 5,
   "metadata": {},
   "outputs": [
    {
     "name": "stdout",
     "output_type": "stream",
     "text": [
      "Columns list for this Dataset : \n",
      " ['Time', 'V1', 'V2', 'V3', 'V4', 'V5', 'V6', 'V7', 'V8', 'V9', 'V10', 'V11', 'V12', 'V13', 'V14', 'V15', 'V16', 'V17', 'V18', 'V19', 'V20', 'V21', 'V22', 'V23', 'V24', 'V25', 'V26', 'V27', 'V28', 'Amount', 'Class']\n"
     ]
    }
   ],
   "source": [
    "columns = list(cc_df.columns)\n",
    "print(\"Columns list for this Dataset : \\n {}\".format(columns))"
   ]
  },
  {
   "cell_type": "markdown",
   "metadata": {},
   "source": [
    "<p>there are total of 31 columns with Column name \"Class\" is target variable here\n",
    "we can see that there are 28 variables Naming from V1 - V28 which looks like small values real number(we will explore in details further)\n",
    "We can see other 2 variables named : \"Time\" and \"Amount\" </p>"
   ]
  },
  {
   "cell_type": "code",
   "execution_count": 6,
   "metadata": {},
   "outputs": [
    {
     "name": "stdout",
     "output_type": "stream",
     "text": [
      "Shape of the given dataset is : (284807, 31) \n"
     ]
    }
   ],
   "source": [
    "print(\"Shape of the given dataset is : {} \".format(cc_df.shape))"
   ]
  },
  {
   "cell_type": "markdown",
   "metadata": {},
   "source": [
    "we can see that number of rows are 284807"
   ]
  },
  {
   "cell_type": "markdown",
   "metadata": {},
   "source": [
    "#### now we will plot histograms for each variable"
   ]
  },
  {
   "cell_type": "code",
   "execution_count": 7,
   "metadata": {
    "scrolled": true
   },
   "outputs": [
    {
     "name": "stderr",
     "output_type": "stream",
     "text": [
      "c:\\users\\anmol\\appdata\\local\\programs\\python\\python36\\lib\\site-packages\\pandas\\plotting\\_matplotlib\\tools.py:298: MatplotlibDeprecationWarning: \n",
      "The rowNum attribute was deprecated in Matplotlib 3.2 and will be removed two minor releases later. Use ax.get_subplotspec().rowspan.start instead.\n",
      "  layout[ax.rowNum, ax.colNum] = ax.get_visible()\n",
      "c:\\users\\anmol\\appdata\\local\\programs\\python\\python36\\lib\\site-packages\\pandas\\plotting\\_matplotlib\\tools.py:298: MatplotlibDeprecationWarning: \n",
      "The colNum attribute was deprecated in Matplotlib 3.2 and will be removed two minor releases later. Use ax.get_subplotspec().colspan.start instead.\n",
      "  layout[ax.rowNum, ax.colNum] = ax.get_visible()\n",
      "c:\\users\\anmol\\appdata\\local\\programs\\python\\python36\\lib\\site-packages\\pandas\\plotting\\_matplotlib\\tools.py:304: MatplotlibDeprecationWarning: \n",
      "The rowNum attribute was deprecated in Matplotlib 3.2 and will be removed two minor releases later. Use ax.get_subplotspec().rowspan.start instead.\n",
      "  if not layout[ax.rowNum + 1, ax.colNum]:\n",
      "c:\\users\\anmol\\appdata\\local\\programs\\python\\python36\\lib\\site-packages\\pandas\\plotting\\_matplotlib\\tools.py:304: MatplotlibDeprecationWarning: \n",
      "The colNum attribute was deprecated in Matplotlib 3.2 and will be removed two minor releases later. Use ax.get_subplotspec().colspan.start instead.\n",
      "  if not layout[ax.rowNum + 1, ax.colNum]:\n"
     ]
    },
    {
     "data": {
      "image/png": "[encoded data removed]",
      "text/plain": [
       "<Figure size 1440x1440 with 36 Axes>"
      ]
     },
     "metadata": {
      "needs_background": "light"
     },
     "output_type": "display_data"
    }
   ],
   "source": [
    "# plot the histogram of each parameter\n",
    "cc_df.hist(figsize=(20, 20),bins = 10)\n",
    "plt.show()"
   ]
  },
  {
   "cell_type": "markdown",
   "metadata": {},
   "source": [
    "Important observations from the above plots:\n",
    "1. Class has very few 1 values (Fraud cases) \n",
    "2. Values of variables : name starting starting with V are very small in magnitude\n",
    "3. we also notice that these values are very small that they centered around zero(0)"
   ]
  },
  {
   "cell_type": "markdown",
   "metadata": {},
   "source": [
    "#### determining number of frauds cases"
   ]
  },
  {
   "cell_type": "code",
   "execution_count": 8,
   "metadata": {},
   "outputs": [],
   "source": [
    "fraud_cases = cc_df[cc_df[\"Class\"] ==1]\n",
    "non_fraud_cases = cc_df[cc_df[\"Class\"] == 0]"
   ]
  },
  {
   "cell_type": "code",
   "execution_count": 9,
   "metadata": {},
   "outputs": [
    {
     "name": "stdout",
     "output_type": "stream",
     "text": [
      "% of fraud cases from total data 0.17 %\n"
     ]
    }
   ],
   "source": [
    "## % of fraud from total data\n",
    "\n",
    "fraud_perc = round(len(fraud_cases)/len(cc_df)*100,2)\n",
    "print(\"% of fraud cases from total data {} %\".format(fraud_perc))"
   ]
  },
  {
   "cell_type": "code",
   "execution_count": 10,
   "metadata": {},
   "outputs": [
    {
     "name": "stdout",
     "output_type": "stream",
     "text": [
      "Fraud Cases : 492\n",
      "Non-Fraud Cases : 284315\n"
     ]
    }
   ],
   "source": [
    "### total fraud cases from dataset\n",
    "\n",
    "print(\"Fraud Cases : {}\".format(len(fraud_cases)))\n",
    "print(\"Non-Fraud Cases : {}\".format(len(non_fraud_cases)))"
   ]
  },
  {
   "cell_type": "markdown",
   "metadata": {},
   "source": [
    "#### transaction amount difference between fraud cases and non-fraud cases"
   ]
  },
  {
   "cell_type": "code",
   "execution_count": 11,
   "metadata": {},
   "outputs": [],
   "source": [
    "## average transcation amount for fraud cases\n",
    "avg_amount_fraud = statistics.mean(fraud_cases[\"Amount\"])"
   ]
  },
  {
   "cell_type": "code",
   "execution_count": 12,
   "metadata": {},
   "outputs": [
    {
     "name": "stdout",
     "output_type": "stream",
     "text": [
      "Average transcation amount for fraud cases  : 122.21132113821139\n"
     ]
    }
   ],
   "source": [
    "print(\"Average transcation amount for fraud cases  : {}\".format(avg_amount_fraud))"
   ]
  },
  {
   "cell_type": "code",
   "execution_count": 13,
   "metadata": {},
   "outputs": [],
   "source": [
    "## average transcation amount for non-fraud cases\n",
    "avg_amount_non_fraud = statistics.mean(non_fraud_cases[\"Amount\"])"
   ]
  },
  {
   "cell_type": "code",
   "execution_count": 14,
   "metadata": {},
   "outputs": [
    {
     "name": "stdout",
     "output_type": "stream",
     "text": [
      "Average transcation amount for non-fraud cases  : 88.29102242231328\n"
     ]
    }
   ],
   "source": [
    "print(\"Average transcation amount for non-fraud cases  : {}\".format(avg_amount_non_fraud))"
   ]
  },
  {
   "cell_type": "markdown",
   "metadata": {},
   "source": [
    "**NOTE: very important observation from above statistics is that fraud cases transaction have higher revenue involved than normal transaction**"
   ]
  },
  {
   "cell_type": "markdown",
   "metadata": {},
   "source": [
    "We will figure out further how each independent variables are related to each other by Pearson correlation matrix "
   ]
  },
  {
   "cell_type": "markdown",
   "metadata": {},
   "source": [
    "The Pearson correlation coefficient is a statistic that measures linear correlation between two variables X1 and X2. It has a value between +1 and −1. A value of +1 is total positive linear correlation, 0 is no linear correlation, and −1 is total negative linear correlation"
   ]
  },
  {
   "cell_type": "markdown",
   "metadata": {},
   "source": [
    "NOTE: We will only talk about magnitude of correlation in following inferences"
   ]
  },
  {
   "cell_type": "code",
   "execution_count": 15,
   "metadata": {
    "scrolled": true
   },
   "outputs": [
    {
     "data": {
      "image/png": "[encoded data removed]",
      "text/plain": [
       "<Figure size 1224x1080 with 2 Axes>"
      ]
     },
     "metadata": {
      "needs_background": "light"
     },
     "output_type": "display_data"
    }
   ],
   "source": [
    "# Using Correlation\n",
    "plt.figure(figsize=(17,15))\n",
    "pear_corr_matrix = cc_df.corr()\n",
    "\n",
    "sns.heatmap(pear_corr_matrix   ,  cmap=plt.cm.Blues, linewidths=.5 , vmax = .8, square = True)\n",
    "plt.show()"
   ]
  },
  {
   "cell_type": "markdown",
   "metadata": {},
   "source": [
    "NOTE: \n",
    "1. Each sqaure box is a correlation of correspoding X-axis variable to respective Y-axis variable\n",
    "2. Light color means less magnitude of correlation which means variables are less related to each other\n",
    "3. Darker color means high magnitude, which means high correlation  between variables\n",
    "\n",
    "Imppotant Observations :\n",
    "1. As we see very large amount of light color square box, which means variables are hardly related to each other\n",
    "2. Amount variable is bit related to few variables like V7, V20 , that too not to large extent "
   ]
  },
  {
   "cell_type": "markdown",
   "metadata": {},
   "source": [
    "## Machine Learning  Technique"
   ]
  },
  {
   "cell_type": "markdown",
   "metadata": {},
   "source": [
    "We will use this above split method in coming steps along with nested cross validation and hyper-parameter tuning"
   ]
  },
  {
   "cell_type": "markdown",
   "metadata": {},
   "source": [
    "I am going to use **Decision Tree Classifier** for this dataset "
   ]
  },
  {
   "cell_type": "markdown",
   "metadata": {},
   "source": [
    "##### following libraries are required for coming steps"
   ]
  },
  {
   "cell_type": "code",
   "execution_count": 16,
   "metadata": {},
   "outputs": [],
   "source": [
    "from sklearn import metrics\n",
    "from sklearn.model_selection import StratifiedKFold\n",
    "import itertools\n",
    "import time\n",
    "import sklearn.datasets\n",
    "from skopt import BayesSearchCV as bayes_opt\n",
    "from sklearn.tree import DecisionTreeClassifier as dt"
   ]
  },
  {
   "cell_type": "markdown",
   "metadata": {},
   "source": [
    "1. Decision Tree parameters space , this will be used at the time of Hyper-parameter tuning\n",
    "2. Range of values of these parameters are provided and Tuning method will tune between these ranges\n",
    "3. Then best valued parameters are choosen for the classifier"
   ]
  },
  {
   "cell_type": "code",
   "execution_count": 17,
   "metadata": {},
   "outputs": [],
   "source": [
    "### decision tree space\n",
    "decision_tree_space = {'splitter':['best','random'],\n",
    "          'max_depth': (1,10),\n",
    "          'criterion':['gini','entropy'],\n",
    "          'min_samples_split':(1,75)}"
   ]
  },
  {
   "cell_type": "markdown",
   "metadata": {},
   "source": [
    "scoring dictionary stores evaluation metrics, on comparing values of these metrics best model is to be chosen from list of models options"
   ]
  },
  {
   "cell_type": "code",
   "execution_count": 18,
   "metadata": {},
   "outputs": [],
   "source": [
    "### scoring dictionary \n",
    "scoring_dic = {'AUC': 'roc_auc', \n",
    "           'avg_pr': 'average_precision', \n",
    "           'bal_accuracy':'balanced_accuracy',\n",
    "           'accuracy':'accuracy',\n",
    "           'f1_score':'f1'}"
   ]
  },
  {
   "cell_type": "markdown",
   "metadata": {},
   "source": [
    "Now we will use nested cross validation to create different models for a single classifier bu using data folding technique"
   ]
  },
  {
   "cell_type": "markdown",
   "metadata": {},
   "source": [
    "inner cv function do following steps:\n",
    "1. Hyper-parameter tuning using Stratified Cross Validation\n",
    "2. Used as nested CV for outer CV"
   ]
  },
  {
   "cell_type": "code",
   "execution_count": 19,
   "metadata": {},
   "outputs": [],
   "source": [
    "def inner_cv(X, y, n_folds, spaces, n_iter ,seed, scoring ):\n",
    "        \n",
    "        ## decision tree estimator\n",
    "        estimator = dt(random_state = seed)\n",
    "        \n",
    "        ## this is inner cross validation , n_folds folds for train corresponding outer fold train data\n",
    "        cv = StratifiedKFold(n_splits=n_folds,shuffle=True,random_state=seed+1)\n",
    "        \n",
    "        ## Bayesian optimization method is used with \"n_iter\" as number of iterations for hyper params tuning\n",
    "        optimization = bayes_opt(cv = cv, estimator = estimator, n_iter = n_iter, n_jobs = -1, \n",
    "                                 search_spaces=spaces, n_points=100, random_state = seed+2, \n",
    "                                 error_score=-1, return_train_score=True, verbose=0, \n",
    "                                 iid = True, refit = True, scoring = scoring)\n",
    "        \n",
    "        ## we fit the bayesian optimizer with train (X) and test (y) data \n",
    "        model = optimization.fit(X=X,y=y)\n",
    "        \n",
    "        ## cross validation score for model by inner_cv is printed\n",
    "        print(\"CV score: \",model.best_score_)\n",
    "        \n",
    "        return(model)"
   ]
  },
  {
   "cell_type": "markdown",
   "metadata": {},
   "source": [
    "-> ounter_cv function acts as first step for nested cross-validation \n",
    "-> Here we : \n",
    "1. define our model evaluation metrics \n",
    "2. set seed for each inner and outer cv\n",
    "3. folds data using Stratified K Fold method \n",
    "4. split train and test data for each inner cv\n",
    "\n",
    "-> There are n-number of models for N outer fold\n",
    "\n",
    "-> For building each model, loop in run from 1-N \n",
    "\n",
    "-> Evaluation metrics are stored after each loop (i.e. result of model from inner_cv)"
   ]
  },
  {
   "cell_type": "code",
   "execution_count": 20,
   "metadata": {},
   "outputs": [],
   "source": [
    "def outer_cv(X,y, n_fold, spaces, seed, scoring):\n",
    "    \n",
    "    # StratifiedKFold helps making n_fold of given data\n",
    "    cv = StratifiedKFold(n_splits = n_fold, shuffle=False,random_state = seed)\n",
    "    \n",
    "    # created empty list \"models\" in which we will append model after each inner_cv result\n",
    "    models = []\n",
    "    \n",
    "    # dictioanry with keys as evaluation metrics, whose values will be appended after result of each inner_cv result(model result)\n",
    "    evaluation_metrics_dic = {\n",
    "        'average_precision':[],\n",
    "        'roc_auc':[],\n",
    "        'balanced_accuracy':[],\n",
    "        'f1':[],'accuracy':[]\n",
    "    }\n",
    "    \n",
    "    # this list will have mean value of cross-validation score\n",
    "    avg_cv_scores = []\n",
    "    \n",
    "    ## flag for printing model status currently trainig/predictiong\n",
    "    loop = 1\n",
    "    \n",
    "    # changing random seed value after n_fold data split\n",
    "    random_state = 1+seed\n",
    "    for train_index, test_index in cv.split(X,y):\n",
    "        \n",
    "        X_train, X_test = X.iloc[train_index], X.iloc[test_index]\n",
    "        y_train, y_test = y.iloc[train_index], y.iloc[test_index] \n",
    "        \n",
    "        print(\"Training Model-{}\".format(loop))\n",
    "        \n",
    "        model = inner_cv(X=X_train, y=y_train, n_folds=4, n_iter=10, spaces = spaces, scoring = scoring, \n",
    "                         seed = random_state)\n",
    "        \n",
    "        # changing random seed value after each inner cv output, so to have distinct seed value for each model\n",
    "        random_state +=1\n",
    "        \n",
    "        # inner_cv results in creating decision tree classifier model, so \"models\" is appended \n",
    "        models.append(model)\n",
    "        \n",
    "        # appending model's cross-validation score for each model\n",
    "        avg_cv_scores.append(model.best_score_)\n",
    "        \n",
    "        \n",
    "        ## prediction\n",
    "        print(\"Predicting Model-{}\".format(loop))\n",
    "        \n",
    "        # model prediction on test data of each outer fold\n",
    "        predictions = model.predict_proba(X_test)[:,1]\n",
    "        \n",
    "        ### comparing following evaluation metrics result of predicted \"Class\" with actual class\n",
    "        ### and appending corresponding  metric value for this model to evaluation_metrics_dic dictionary\n",
    "        \n",
    "        \n",
    "        ## accuracy\n",
    "        accuracy_value = metrics.accuracy_score(y_true = y_test, y_pred=predictions>0.5)\n",
    "        evaluation_metrics_dic['accuracy'].append(accuracy_value)\n",
    "        \n",
    "        ## balanced_accuracy\n",
    "        balanced_accuracy_value = metrics.balanced_accuracy_score(y_true = y_test, y_pred=predictions>0.5)\n",
    "        evaluation_metrics_dic['balanced_accuracy'].append(balanced_accuracy_value)\n",
    "        \n",
    "        ## f1\n",
    "        f1_value = metrics.f1_score(y_true = y_test, y_pred=predictions>0.5)\n",
    "        evaluation_metrics_dic['f1'].append(f1_value)\n",
    "        \n",
    "        ## roc_auc\n",
    "        roc_auc_value = metrics.roc_auc_score(y_true = y_test, y_score=predictions) \n",
    "        evaluation_metrics_dic['roc_auc'].append(roc_auc_value) \n",
    "        \n",
    "        ## average_precision\n",
    "        average_precision_value = metrics.average_precision_score(y_true = y_test, y_score=predictions)\n",
    "        evaluation_metrics_dic['average_precision'].append(average_precision_value)\n",
    "        \n",
    "        loop += 1\n",
    "        \n",
    "    return(models,evaluation_metrics_dic,avg_cv_scores)"
   ]
  },
  {
   "cell_type": "code",
   "execution_count": 21,
   "metadata": {},
   "outputs": [],
   "source": [
    "## data without label(X)\n",
    "X = cc_df.drop(['Time','Class'],axis=1)\n",
    "\n",
    "## data with only label(y) \n",
    "y = cc_df[\"Class\"]"
   ]
  },
  {
   "cell_type": "code",
   "execution_count": 22,
   "metadata": {},
   "outputs": [],
   "source": [
    "## time just before start of training ML models\n",
    "t1 = time.time()"
   ]
  },
  {
   "cell_type": "code",
   "execution_count": 23,
   "metadata": {},
   "outputs": [
    {
     "name": "stderr",
     "output_type": "stream",
     "text": [
      "c:\\users\\anmol\\appdata\\local\\programs\\python\\python36\\lib\\site-packages\\sklearn\\model_selection\\_split.py:296: FutureWarning: Setting a random_state has no effect since shuffle is False. This will raise an error in 0.24. You should leave random_state to its default (None), or set shuffle=True.\n",
      "  FutureWarning\n"
     ]
    },
    {
     "name": "stdout",
     "output_type": "stream",
     "text": [
      "Training Model-1\n",
      "CV score:  0.8081431923937207\n",
      "Predicting Model-1\n",
      "Training Model-2\n",
      "CV score:  0.8075984260991482\n",
      "Predicting Model-2\n",
      "Training Model-3\n",
      "CV score:  0.8343560983579774\n",
      "Predicting Model-3\n",
      "Training Model-4\n",
      "CV score:  0.7968937822851166\n",
      "Predicting Model-4\n",
      "Training Model-5\n",
      "CV score:  0.8381805379874928\n",
      "Predicting Model-5\n"
     ]
    }
   ],
   "source": [
    "trained_models,evaluation_metrics_dic, avg_cv_scores = outer_cv(X=X, y=y, n_fold = 5, \n",
    "                                                          spaces = decision_tree_space, seed = 42, \n",
    "                                                          scoring = scoring_dic[\"f1_score\"])"
   ]
  },
  {
   "cell_type": "code",
   "execution_count": 24,
   "metadata": {},
   "outputs": [],
   "source": [
    "## time just after completion of training and prediction of ML models\n",
    "t2 = time.time()"
   ]
  },
  {
   "cell_type": "code",
   "execution_count": 25,
   "metadata": {},
   "outputs": [
    {
     "name": "stdout",
     "output_type": "stream",
     "text": [
      "Time taken for training the DT models : 420.07944798469543 seconds or 7.001324133078257 minutes\n"
     ]
    }
   ],
   "source": [
    "### we can know time taken to run 5 fold nested cv method for Decision Tree Classifier for this data\n",
    "\n",
    "print(\"Time taken for training the DT models : {} seconds or {} minutes\".format(t2-t1,(t2-t1)/60))"
   ]
  },
  {
   "cell_type": "code",
   "execution_count": 26,
   "metadata": {},
   "outputs": [
    {
     "name": "stdout",
     "output_type": "stream",
     "text": [
      "Number of Decision Tree Models : 5\n"
     ]
    }
   ],
   "source": [
    "print(\"Number of Decision Tree Models : {}\".format(len(trained_models)))"
   ]
  },
  {
   "cell_type": "markdown",
   "metadata": {},
   "source": [
    "evaluation_metrics_dic is dictionary containg evaluation metrics for models "
   ]
  },
  {
   "cell_type": "code",
   "execution_count": 27,
   "metadata": {
    "scrolled": true
   },
   "outputs": [
    {
     "name": "stdout",
     "output_type": "stream",
     "text": [
      "{\n",
      "    \"accuracy\": [\n",
      "        0.9980162213405428,\n",
      "        0.9995786664794073,\n",
      "        0.9968926107336599,\n",
      "        0.999350432752234,\n",
      "        0.9991924299081828\n",
      "    ],\n",
      "    \"average_precision\": [\n",
      "        0.3761252116275466,\n",
      "        0.8268267288645288,\n",
      "        0.514848071855028,\n",
      "        0.6876511168251643,\n",
      "        0.6715364070858009\n",
      "    ],\n",
      "    \"balanced_accuracy\": [\n",
      "        0.9183389919809033,\n",
      "        0.9090381507067226,\n",
      "        0.7998069653269746,\n",
      "        0.8468772240619864,\n",
      "        0.8213318477242295\n",
      "    ],\n",
      "    \"f1\": [\n",
      "        0.5949820788530467,\n",
      "        0.8709677419354839,\n",
      "        0.4,\n",
      "        0.7861271676300577,\n",
      "        0.7325581395348839\n",
      "    ],\n",
      "    \"roc_auc\": [\n",
      "        0.8863239787566678,\n",
      "        0.9273376716001973,\n",
      "        0.8440279124153398,\n",
      "        0.8821200041488906,\n",
      "        0.8778787863561792\n",
      "    ]\n",
      "}\n"
     ]
    }
   ],
   "source": [
    "### printing evaluation_metrics_dic in beautify manner\n",
    "print(json.dumps(evaluation_metrics_dic, sort_keys=True, indent=4))"
   ]
  },
  {
   "cell_type": "code",
   "execution_count": 28,
   "metadata": {},
   "outputs": [
    {
     "data": {
      "text/plain": [
       "'Mean F1 scores of 5 models : 0.6769270255906944'"
      ]
     },
     "execution_count": 28,
     "metadata": {},
     "output_type": "execute_result"
    }
   ],
   "source": [
    "## mean value of f1 scores of all 5 models\n",
    "\n",
    "\"Mean F1 scores of 5 models : {}\".format(np.mean(evaluation_metrics_dic[\"f1\"]))"
   ]
  },
  {
   "cell_type": "code",
   "execution_count": 29,
   "metadata": {},
   "outputs": [
    {
     "data": {
      "text/plain": [
       "'Standard deviation of F1 scores for 5 models : 0.16496959917392814'"
      ]
     },
     "execution_count": 29,
     "metadata": {},
     "output_type": "execute_result"
    }
   ],
   "source": [
    "## standard deviation of f1 scores of 5 models\n",
    "\n",
    "\"Standard deviation of F1 scores for 5 models : {}\".format(np.std(evaluation_metrics_dic[\"f1\"]))"
   ]
  },
  {
   "cell_type": "markdown",
   "metadata": {},
   "source": [
    "conclusion"
   ]
  },
  {
   "cell_type": "markdown",
   "metadata": {},
   "source": [
    "f1 score :   -.15    ||     0.6919    ||    +.15"
   ]
  },
  {
   "cell_type": "markdown",
   "metadata": {},
   "source": [
    "As we see, f1 score of varies too great extent as **standard deviation** is of **.15**\n",
    "this means for some part of data decision trees works fine but for other it's not good at all\n",
    "So this can be the case with unseen data that a classifier performs better for a part of data but fails to give correct prediction for new unseen data\n",
    "NOTE : So basically whole point of using 5 fold nested cross validation was to chech if my classifier is good for unseen data or not .. So it's just an example\n",
    "##### we should be not sure about any ML algorithm at it's first result only."
   ]
  },
  {
   "cell_type": "code",
   "execution_count": 30,
   "metadata": {},
   "outputs": [
    {
     "name": "stdout",
     "output_type": "stream",
     "text": [
      "{'criterion': 'gini', 'max_depth': 10, 'min_samples_split': 2, 'splitter': 'random'}\n",
      "{'criterion': 'entropy', 'max_depth': 5, 'min_samples_split': 15, 'splitter': 'best'}\n",
      "{'criterion': 'entropy', 'max_depth': 8, 'min_samples_split': 11, 'splitter': 'best'}\n",
      "{'criterion': 'gini', 'max_depth': 7, 'min_samples_split': 5, 'splitter': 'best'}\n",
      "{'criterion': 'entropy', 'max_depth': 6, 'min_samples_split': 11, 'splitter': 'best'}\n"
     ]
    }
   ],
   "source": [
    "## \n",
    "for i in trained_models:print(i.best_params_)"
   ]
  },
  {
   "cell_type": "markdown",
   "metadata": {},
   "source": [
    "Above are results of best hyper-parameters selected for each models\n",
    "Hyperparameter tuning is effective way to find best fit values of hyper-parameters(out of given ranges values for each hyper params) for a given model"
   ]
  }
 ],
 "metadata": {
  "kernelspec": {
   "display_name": "Python 3",
   "language": "python",
   "name": "python3"
  },
  "language_info": {
   "codemirror_mode": {
    "name": "ipython",
    "version": 3
   },
   "file_extension": ".py",
   "mimetype": "text/x-python",
   "name": "python",
   "nbconvert_exporter": "python",
   "pygments_lexer": "ipython3",
   "version": "3.6.7"
  }
 },
 "nbformat": 4,
 "nbformat_minor": 4
}
